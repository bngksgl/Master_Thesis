{
 "cells": [
  {
   "cell_type": "code",
   "execution_count": 1,
   "metadata": {},
   "outputs": [],
   "source": [
    "def jaccard_similarity(query, document):\n",
    "    intersection = set(query).intersection(set(document))\n",
    "    union = set(query).union(set(document))\n",
    "    return len(intersection)/len(union)"
   ]
  },
  {
   "cell_type": "code",
   "execution_count": 1,
   "metadata": {},
   "outputs": [],
   "source": [
    "from similarity.jarowinkler import JaroWinkler\n",
    "jarowinkler = JaroWinkler()"
   ]
  },
  {
   "cell_type": "code",
   "execution_count": 2,
   "metadata": {},
   "outputs": [],
   "source": [
    "s1= 'iphone 6'\n",
    "s2= 'one m9'"
   ]
  },
  {
   "cell_type": "code",
   "execution_count": 4,
   "metadata": {},
   "outputs": [
    {
     "data": {
      "text/plain": [
       "0.7222222222222222"
      ]
     },
     "execution_count": 4,
     "metadata": {},
     "output_type": "execute_result"
    }
   ],
   "source": [
    "jarowinkler.similarity(s1,s2)"
   ]
  },
  {
   "cell_type": "code",
   "execution_count": 6,
   "metadata": {},
   "outputs": [
    {
     "data": {
      "text/plain": [
       "'one m9'"
      ]
     },
     "execution_count": 6,
     "metadata": {},
     "output_type": "execute_result"
    }
   ],
   "source": [
    "s2.translate(str.maketrans('','','\\r\\n\\t\\,)};{$.|:(#\"[]/>+=?')).lower()"
   ]
  },
  {
   "cell_type": "code",
   "execution_count": null,
   "metadata": {},
   "outputs": [],
   "source": []
  },
  {
   "cell_type": "code",
   "execution_count": 2,
   "metadata": {},
   "outputs": [
    {
     "data": {
      "text/plain": [
       "1.0"
      ]
     },
     "execution_count": 2,
     "metadata": {},
     "output_type": "execute_result"
    }
   ],
   "source": [
    "jaccard_similarity('iphone 6s','iphone 6s')"
   ]
  },
  {
   "cell_type": "code",
   "execution_count": 3,
   "metadata": {},
   "outputs": [
    {
     "data": {
      "text/plain": [
       "1.0"
      ]
     },
     "execution_count": 3,
     "metadata": {},
     "output_type": "execute_result"
    }
   ],
   "source": [
    "jaccard_similarity('6s iphone','iphone 6s')"
   ]
  },
  {
   "cell_type": "code",
   "execution_count": 9,
   "metadata": {},
   "outputs": [
    {
     "data": {
      "text/plain": [
       "0.8"
      ]
     },
     "execution_count": 9,
     "metadata": {},
     "output_type": "execute_result"
    }
   ],
   "source": [
    "jaccard_similarity('6s iphne','iphone 6st')"
   ]
  },
  {
   "cell_type": "code",
   "execution_count": 11,
   "metadata": {},
   "outputs": [],
   "source": [
    "query='6s iphne'\n",
    "document='iphone 6st'"
   ]
  },
  {
   "cell_type": "code",
   "execution_count": 12,
   "metadata": {},
   "outputs": [
    {
     "name": "stdout",
     "output_type": "stream",
     "text": [
      "{' ', 'h', 'n', 'e', 's', 'i', '6', 'p'}\n"
     ]
    }
   ],
   "source": [
    "intersection=set(query).intersection(set(document))\n",
    "print(intersection)"
   ]
  },
  {
   "cell_type": "code",
   "execution_count": 13,
   "metadata": {},
   "outputs": [
    {
     "name": "stdout",
     "output_type": "stream",
     "text": [
      "{' ', 'h', 'n', 'o', 'e', 's', '6', 't', 'i', 'p'}\n"
     ]
    }
   ],
   "source": [
    "union = set(query).union(set(document))\n",
    "print(union)"
   ]
  },
  {
   "cell_type": "code",
   "execution_count": 14,
   "metadata": {},
   "outputs": [
    {
     "data": {
      "text/plain": [
       "0.8"
      ]
     },
     "execution_count": 14,
     "metadata": {},
     "output_type": "execute_result"
    }
   ],
   "source": [
    "len(intersection)/len(union)"
   ]
  },
  {
   "cell_type": "code",
   "execution_count": null,
   "metadata": {},
   "outputs": [],
   "source": [
    "from similarity.jarowinkler import JaroWinkler"
   ]
  },
  {
   "cell_type": "code",
   "execution_count": null,
   "metadata": {},
   "outputs": [],
   "source": [
    "from similarity.normalized_levenshtein import NormalizedLevenshtein\n",
    "from similarity.jarowinkler import JaroWinkler\n",
    "\n",
    "normalized_levenshtein = NormalizedLevenshtein()"
   ]
  },
  {
   "cell_type": "code",
   "execution_count": 32,
   "metadata": {},
   "outputs": [
    {
     "ename": "TypeError",
     "evalue": "__init__() missing 1 required positional argument: 'k'",
     "output_type": "error",
     "traceback": [
      "\u001b[0;31m---------------------------------------------------------------------------\u001b[0m",
      "\u001b[0;31mTypeError\u001b[0m                                 Traceback (most recent call last)",
      "\u001b[0;32m<ipython-input-32-ac89af089338>\u001b[0m in \u001b[0;36m<module>\u001b[0;34m\u001b[0m\n\u001b[1;32m      1\u001b[0m \u001b[0;32mfrom\u001b[0m \u001b[0msimilarity\u001b[0m\u001b[0;34m.\u001b[0m\u001b[0mjaccard\u001b[0m \u001b[0;32mimport\u001b[0m \u001b[0mJaccard\u001b[0m\u001b[0;34m\u001b[0m\u001b[0;34m\u001b[0m\u001b[0m\n\u001b[1;32m      2\u001b[0m \u001b[0;34m\u001b[0m\u001b[0m\n\u001b[0;32m----> 3\u001b[0;31m \u001b[0mjaccard_sim\u001b[0m\u001b[0;34m=\u001b[0m\u001b[0mJaccard\u001b[0m\u001b[0;34m(\u001b[0m\u001b[0;34m)\u001b[0m\u001b[0;34m\u001b[0m\u001b[0;34m\u001b[0m\u001b[0m\n\u001b[0m",
      "\u001b[0;31mTypeError\u001b[0m: __init__() missing 1 required positional argument: 'k'"
     ]
    }
   ],
   "source": [
    "from similarity.jaccard import Jaccard\n",
    "\n",
    "jaccard_sim=Jaccard()"
   ]
  },
  {
   "cell_type": "code",
   "execution_count": 33,
   "metadata": {},
   "outputs": [
    {
     "ename": "TypeError",
     "evalue": "'Jaccard' object is not callable",
     "output_type": "error",
     "traceback": [
      "\u001b[0;31m---------------------------------------------------------------------------\u001b[0m",
      "\u001b[0;31mTypeError\u001b[0m                                 Traceback (most recent call last)",
      "\u001b[0;32m<ipython-input-33-9719f3b52f8b>\u001b[0m in \u001b[0;36m<module>\u001b[0;34m\u001b[0m\n\u001b[0;32m----> 1\u001b[0;31m \u001b[0mjaccard_sim\u001b[0m\u001b[0;34m(\u001b[0m\u001b[0mquery\u001b[0m\u001b[0;34m,\u001b[0m\u001b[0mdocument\u001b[0m\u001b[0;34m)\u001b[0m\u001b[0;34m\u001b[0m\u001b[0;34m\u001b[0m\u001b[0m\n\u001b[0m",
      "\u001b[0;31mTypeError\u001b[0m: 'Jaccard' object is not callable"
     ]
    }
   ],
   "source": [
    "jaccard_sim(query,document)"
   ]
  },
  {
   "cell_type": "code",
   "execution_count": 34,
   "metadata": {},
   "outputs": [
    {
     "ename": "SyntaxError",
     "evalue": "invalid syntax (<ipython-input-34-9b2fcdb57da8>, line 2)",
     "output_type": "error",
     "traceback": [
      "\u001b[0;36m  File \u001b[0;32m\"<ipython-input-34-9b2fcdb57da8>\"\u001b[0;36m, line \u001b[0;32m2\u001b[0m\n\u001b[0;31m    makecite --ext=.py -o software_refs.bib .\u001b[0m\n\u001b[0m                   ^\u001b[0m\n\u001b[0;31mSyntaxError\u001b[0m\u001b[0;31m:\u001b[0m invalid syntax\n"
     ]
    }
   ],
   "source": [
    "import makecite\n",
    "makecite --ext=.py -o software_refs.bib ."
   ]
  },
  {
   "cell_type": "code",
   "execution_count": 7,
   "metadata": {},
   "outputs": [],
   "source": [
    "    def matches(s0, s1):\n",
    "        if len(s0) > len(s1):\n",
    "            max_str = s0\n",
    "            min_str = s1\n",
    "        else:\n",
    "            max_str = s1\n",
    "            min_str = s0\n",
    "        ran = int(max(len(max_str) / 2 - 1, 0))\n",
    "        match_indexes = [-1] * len(min_str)\n",
    "        match_flags = [False] * len(max_str)\n",
    "        matches = 0\n",
    "        for mi in range(len(min_str)):\n",
    "            c1 = min_str[mi]\n",
    "            for xi in range(max(mi - ran, 0), min(mi + ran + 1, len(max_str))):\n",
    "                if not match_flags[xi] and c1 == max_str[xi]:\n",
    "                    match_indexes[mi] = xi\n",
    "                    match_flags[xi] = True\n",
    "                    matches += 1\n",
    "                    break\n",
    "\n",
    "        ms0, ms1 = [0] * matches, [0] * matches\n",
    "        si = 0\n",
    "        for i in range(len(min_str)):\n",
    "            if match_indexes[i] != -1:\n",
    "                ms0[si] = min_str[i]\n",
    "                si += 1\n",
    "        si = 0\n",
    "        for j in range(len(max_str)):\n",
    "            if match_flags[j]:\n",
    "                ms1[si] = max_str[j]\n",
    "                si += 1\n",
    "        transpositions = 0\n",
    "        for mi in range(len(ms0)):\n",
    "            if ms0[mi] != ms1[mi]:\n",
    "                transpositions += 1\n",
    "        prefix = 0\n",
    "        for mi in range(len(min_str)):\n",
    "            if s0[mi] == s1[mi]:\n",
    "                prefix += 1\n",
    "            else:\n",
    "                break\n",
    "        return [matches, int(transpositions / 2), prefix, len(max_str)]\n"
   ]
  },
  {
   "cell_type": "code",
   "execution_count": null,
   "metadata": {},
   "outputs": [],
   "source": []
  }
 ],
 "metadata": {
  "kernelspec": {
   "display_name": "Python 3",
   "language": "python",
   "name": "python3"
  },
  "language_info": {
   "codemirror_mode": {
    "name": "ipython",
    "version": 3
   },
   "file_extension": ".py",
   "mimetype": "text/x-python",
   "name": "python",
   "nbconvert_exporter": "python",
   "pygments_lexer": "ipython3",
   "version": "3.7.1"
  }
 },
 "nbformat": 4,
 "nbformat_minor": 2
}
